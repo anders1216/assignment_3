{
 "cells": [
  {
   "cell_type": "code",
   "execution_count": 2,
   "metadata": {
    "collapsed": true
   },
   "outputs": [],
   "source": [
    "word= 'supercalifrgilisticexpialidocious'"
   ]
  },
  {
   "cell_type": "code",
   "execution_count": 51,
   "metadata": {
    "collapsed": false
   },
   "outputs": [
    {
     "name": "stdout",
     "output_type": "stream",
     "text": [
      "supercalifrgilisticexpialidocious\n"
     ]
    }
   ],
   "source": [
    "# here I am checking to see if my variable was produced\n",
    "print(word)"
   ]
  },
  {
   "cell_type": "code",
   "execution_count": 54,
   "metadata": {
    "collapsed": false
   },
   "outputs": [
    {
     "name": "stdout",
     "output_type": "stream",
     "text": [
      "super\n",
      "ice\n",
      "us\n"
     ]
    }
   ],
   "source": [
    "# here I am slicing the variable into sub variables\n",
    "super = word[0:5]\n",
    "print(super)\n",
    "ice = word[17:20]\n",
    "print(ice)\n",
    "us = (word[-2:])\n",
    "print(us)"
   ]
  },
  {
   "cell_type": "code",
   "execution_count": 25,
   "metadata": {
    "collapsed": true
   },
   "outputs": [],
   "source": [
    "#here I am determining a new variable 'evens' that contains all the even intergers between 1 and 11\n",
    "evens = (2, 4, 6, 8, 10)"
   ]
  },
  {
   "cell_type": "code",
   "execution_count": 55,
   "metadata": {
    "collapsed": false
   },
   "outputs": [
    {
     "name": "stdout",
     "output_type": "stream",
     "text": [
      "(2, 4, 6, 8, 10)\n"
     ]
    }
   ],
   "source": [
    "#here I am checking to see if my variable worked\n",
    "print(evens)"
   ]
  },
  {
   "cell_type": "code",
   "execution_count": 58,
   "metadata": {
    "collapsed": false
   },
   "outputs": [
    {
     "name": "stdout",
     "output_type": "stream",
     "text": [
      "6.0\n"
     ]
    }
   ],
   "source": [
    "#here I am creating a new variable evens_mean that is a mean of all the integers in evens and dividing it by the number of variables\n",
    "evens_mean = ((evens[0] + evens[1] + evens[2] + evens[3] + evens[4])/5)\n",
    "print(evens_mean)"
   ]
  },
  {
   "cell_type": "code",
   "execution_count": 49,
   "metadata": {
    "collapsed": false
   },
   "outputs": [],
   "source": [
    "#here I am creating a variable Standard_deviation that calculates the standard deviation of the evens data set\n",
    "Standard_deviation = (((((evens[0] - evens_mean)**2) + ((evens[1] - evens_mean)**2) + ((evens[2] - evens_mean)**2) +((evens[3] - evens_mean)**2) + ((evens[4] - evens_mean)**2))/5)**.5)"
   ]
  },
  {
   "cell_type": "code",
   "execution_count": 50,
   "metadata": {
    "collapsed": false
   },
   "outputs": [
    {
     "name": "stdout",
     "output_type": "stream",
     "text": [
      "2.8284271247461903\n"
     ]
    }
   ],
   "source": [
    "#here I am visualizing my standard deviation variable\n",
    "print(Standard_deviation)"
   ]
  },
  {
   "cell_type": "code",
   "execution_count": 62,
   "metadata": {
    "collapsed": false
   },
   "outputs": [
    {
     "name": "stdout",
     "output_type": "stream",
     "text": [
      "1.2649110640673518\n"
     ]
    }
   ],
   "source": [
    "#here I am makeing a new variable Standard Error that is the standard deviation divided by the square of the sample size and printing it\n",
    "Standard_Error = (Standard_deviation/(5**.5))\n",
    "print(Standard_Error)"
   ]
  },
  {
   "cell_type": "code",
   "execution_count": 75,
   "metadata": {
    "collapsed": false
   },
   "outputs": [
    {
     "name": "stdout",
     "output_type": "stream",
     "text": [
      "Anders Hornor\n"
     ]
    }
   ],
   "source": [
    "#here I am makeing a variable for my first, last and full names\n",
    "First_name = 'Anders'\n",
    "Last_name = 'Hornor'\n",
    "Full_name = First_name + ' ' + Last_name\n",
    "print(Full_name)"
   ]
  },
  {
   "cell_type": "raw",
   "metadata": {},
   "source": []
  }
 ],
 "metadata": {
  "kernelspec": {
   "display_name": "Python 3",
   "language": "python",
   "name": "python3"
  },
  "language_info": {
   "codemirror_mode": {
    "name": "ipython",
    "version": 3
   },
   "file_extension": ".py",
   "mimetype": "text/x-python",
   "name": "python",
   "nbconvert_exporter": "python",
   "pygments_lexer": "ipython3",
   "version": "3.4.3"
  }
 },
 "nbformat": 4,
 "nbformat_minor": 0
}
